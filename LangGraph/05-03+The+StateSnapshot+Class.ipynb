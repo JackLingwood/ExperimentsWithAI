{
 "cells": [
  {
   "cell_type": "markdown",
   "id": "7f6de2cb-9ff0-4dd4-8a64-61866355dd48",
   "metadata": {},
   "source": [
    "# The StateSnapshot Class"
   ]
  },
  {
   "cell_type": "markdown",
   "id": "1387b278-9bad-4d15-8e01-86b9b88cda33",
   "metadata": {},
   "source": [
    "### Set the OpenAI API Key as an Environment Variable"
   ]
  },
  {
   "cell_type": "code",
   "execution_count": null,
   "id": "287f9934-8d92-48a3-9616-1f0ad6ecc698",
   "metadata": {},
   "outputs": [],
   "source": [
    "%load_ext dotenv\n",
    "%dotenv\n",
    "%load_ext mypy_ipython"
   ]
  },
  {
   "cell_type": "markdown",
   "id": "e7f26756-5be9-4ebf-b710-c2bc90e703e0",
   "metadata": {},
   "source": [
    "### Import Relevant Classes and Functions"
   ]
  },
  {
   "cell_type": "code",
   "execution_count": null,
   "id": "c3eb4848-f932-4208-99b8-27f0c41a988c",
   "metadata": {},
   "outputs": [],
   "source": [
    "from langgraph.graph import START, END, StateGraph, MessagesState\n",
    "from langchain_openai.chat_models import ChatOpenAI\n",
    "from langchain_core.messages import HumanMessage, AIMessage, SystemMessage, BaseMessage, RemoveMessage\n",
    "from langgraph.checkpoint.memory import InMemorySaver"
   ]
  },
  {
   "cell_type": "markdown",
   "id": "b2fcc5d8-5e9e-45cb-bc54-693d1fcf1726",
   "metadata": {},
   "source": [
    "### Define the State"
   ]
  },
  {
   "cell_type": "code",
   "execution_count": null,
   "id": "8007fcbf-2807-40c2-a410-44b90a43ace9",
   "metadata": {},
   "outputs": [],
   "source": [
    "class State(MessagesState):\n",
    "    summary: str"
   ]
  },
  {
   "cell_type": "markdown",
   "id": "fe917cb4-4c0b-411e-ad54-980309eddf35",
   "metadata": {},
   "source": [
    "### Define the Nodes"
   ]
  },
  {
   "cell_type": "code",
   "execution_count": null,
   "id": "79013468-8a69-460d-ba61-2a7fd2968dde",
   "metadata": {},
   "outputs": [],
   "source": [
    "chat = ChatOpenAI(model = \"gpt-4o\", \n",
    "                  seed = 365, \n",
    "                  temperature = 0, \n",
    "                  max_completion_tokens = 100)"
   ]
  },
  {
   "cell_type": "code",
   "execution_count": null,
   "id": "318935af-2dbc-42d4-8792-24a6dd1531bb",
   "metadata": {},
   "outputs": [],
   "source": [
    "def ask_question(state: State) -> State:\n",
    "    \n",
    "    print(f\"\\n-------> ENTERING ask_question:\")\n",
    "    \n",
    "    question = \"What is your question?\"\n",
    "    print(question)\n",
    "    \n",
    "    return State(messages = [AIMessage(question), HumanMessage(input())])"
   ]
  },
  {
   "cell_type": "code",
   "execution_count": null,
   "id": "5d694d0b-6530-4191-a88e-576ab1f1ba49",
   "metadata": {},
   "outputs": [],
   "source": [
    "def chatbot(state: State) -> State:\n",
    "    \n",
    "    print(f\"\\n-------> ENTERING chatbot:\")\n",
    "        \n",
    "    system_message = f'''\n",
    "    Here's a quick summary of what's been discussed so far:\n",
    "    {state.get(\"summary\", \"\")}\n",
    "    \n",
    "    Keep this in mind as you answer the next question.\n",
    "    '''\n",
    "    \n",
    "    response = chat.invoke([SystemMessage(system_message)] + state[\"messages\"])\n",
    "    response.pretty_print()\n",
    "    \n",
    "    return State(messages = [response])"
   ]
  },
  {
   "cell_type": "code",
   "execution_count": null,
   "id": "9a6db41f-dfed-4417-8bdd-8039793f53da",
   "metadata": {},
   "outputs": [],
   "source": [
    "def summarize_messages(state: State) -> State:\n",
    "    print(f\"\\n-------> ENTERING summarize_messages:\")\n",
    "\n",
    "    new_conversation = \"\"\n",
    "    for i in state[\"messages\"]:\n",
    "        new_conversation += f\"{i.type}: {i.content}\\n\\n\"\n",
    "    \n",
    "    summary_instructions = f'''\n",
    "Update the ongoing summary by incorporating the new lines of conversation below. \n",
    "Build upon the previous summary rather than repeating it, \n",
    "so that the result reflects the most recent context and developments.\n",
    "Respond only with the summary.\n",
    "\n",
    "Previous Summary:\n",
    "{state.get(\"summary\", \"\")}\n",
    "\n",
    "New Conversation:\n",
    "{new_conversation}\n",
    "'''\n",
    "\n",
    "    print(summary_instructions)\n",
    "\n",
    "    summary = chat.invoke([HumanMessage(summary_instructions)])\n",
    "    \n",
    "    remove_messages = [RemoveMessage(id = i.id) for i in state[\"messages\"][:]]\n",
    "\n",
    "    return State(messages = remove_messages, summary = summary.content)"
   ]
  },
  {
   "cell_type": "markdown",
   "id": "07dc9515-23ab-44cb-af8b-3a0a04556d19",
   "metadata": {},
   "source": [
    "### Define the Graph"
   ]
  },
  {
   "cell_type": "code",
   "execution_count": null,
   "id": "a421547d-ce4b-4602-adee-be3952fce521",
   "metadata": {},
   "outputs": [],
   "source": [
    "graph = StateGraph(State)"
   ]
  },
  {
   "cell_type": "code",
   "execution_count": null,
   "id": "2ef0ac70-5c4d-42fa-a68e-fa7bdd6eef26",
   "metadata": {},
   "outputs": [],
   "source": [
    "graph.add_node(\"ask_question\", ask_question)\n",
    "graph.add_node(\"chatbot\", chatbot)\n",
    "graph.add_node(\"summarize_messages\", summarize_messages)\n",
    "\n",
    "graph.add_edge(START, \"ask_question\")\n",
    "graph.add_edge(\"ask_question\", \"chatbot\")\n",
    "graph.add_edge(\"chatbot\", \"summarize_messages\")\n",
    "graph.add_edge(\"summarize_messages\", END)"
   ]
  },
  {
   "cell_type": "code",
   "execution_count": null,
   "id": "23028960-2ec2-4813-b0fe-f541a7ead930",
   "metadata": {},
   "outputs": [],
   "source": [
    "checkpointer = InMemorySaver()\n",
    "graph_compiled = graph.compile(checkpointer)"
   ]
  },
  {
   "cell_type": "code",
   "execution_count": null,
   "id": "76b9fb97-44ff-44dd-9fc5-3515c5bdd10b",
   "metadata": {},
   "outputs": [],
   "source": [
    "graph_compiled"
   ]
  },
  {
   "cell_type": "code",
   "execution_count": null,
   "id": "9b69bd76-f790-4e7f-b6ea-b59b6ec364f4",
   "metadata": {},
   "outputs": [],
   "source": [
    "config1 = {\"configurable\": {\"thread_id\": \"1\"}}\n",
    "config2 = {\"configurable\": {\"thread_id\": \"2\"}}"
   ]
  },
  {
   "cell_type": "code",
   "execution_count": null,
   "id": "49a9ec08-9735-41e1-bd61-362841625ac3",
   "metadata": {},
   "outputs": [],
   "source": [
    "graph_compiled.invoke(State(), config2)"
   ]
  },
  {
   "cell_type": "code",
   "execution_count": null,
   "id": "eddc9a3d-73a8-4b2e-999e-0b1399f7f345",
   "metadata": {},
   "outputs": [],
   "source": [
    "graph_states = [i for i in graph_compiled.get_state_history(config1)]"
   ]
  },
  {
   "cell_type": "code",
   "execution_count": null,
   "id": "eab418a8-e126-46d3-9cfa-0c3a134e58e9",
   "metadata": {},
   "outputs": [],
   "source": [
    "graph_states"
   ]
  },
  {
   "cell_type": "code",
   "execution_count": null,
   "id": "314c841c",
   "metadata": {},
   "outputs": [],
   "source": [
    "for i in graph_states[::-1]:\n",
    "    print(f'''\n",
    "Messages: {i.values[\"messages\"]}\n",
    "Summary: {i.values.get(\"summary\", \"\")}\n",
    "Next: {i.next}\n",
    "Step: {i.metadata[\"step\"]}''')"
   ]
  },
  {
   "cell_type": "code",
   "execution_count": null,
   "id": "2e141e91",
   "metadata": {},
   "outputs": [],
   "source": []
  },
  {
   "cell_type": "code",
   "execution_count": null,
   "id": "fd5a05a7",
   "metadata": {},
   "outputs": [],
   "source": []
  },
  {
   "cell_type": "code",
   "execution_count": null,
   "id": "aebc2826",
   "metadata": {},
   "outputs": [],
   "source": []
  },
  {
   "cell_type": "code",
   "execution_count": null,
   "id": "1084a500",
   "metadata": {},
   "outputs": [],
   "source": []
  },
  {
   "cell_type": "code",
   "execution_count": null,
   "id": "9740e9b3",
   "metadata": {},
   "outputs": [],
   "source": []
  },
  {
   "cell_type": "code",
   "execution_count": null,
   "id": "25a86ddb",
   "metadata": {},
   "outputs": [],
   "source": []
  },
  {
   "cell_type": "code",
   "execution_count": null,
   "id": "983f60d0",
   "metadata": {},
   "outputs": [],
   "source": []
  },
  {
   "cell_type": "code",
   "execution_count": null,
   "id": "caac2b76",
   "metadata": {},
   "outputs": [],
   "source": []
  },
  {
   "cell_type": "code",
   "execution_count": null,
   "id": "f205357d",
   "metadata": {},
   "outputs": [],
   "source": []
  },
  {
   "cell_type": "code",
   "execution_count": null,
   "id": "2628ddfe",
   "metadata": {},
   "outputs": [],
   "source": []
  },
  {
   "cell_type": "code",
   "execution_count": null,
   "id": "08efacac",
   "metadata": {},
   "outputs": [],
   "source": []
  }
 ],
 "metadata": {
  "kernelspec": {
   "display_name": "langgraph_env",
   "language": "python",
   "name": "langgraph_env"
  },
  "language_info": {
   "codemirror_mode": {
    "name": "ipython",
    "version": 3
   },
   "file_extension": ".py",
   "mimetype": "text/x-python",
   "name": "python",
   "nbconvert_exporter": "python",
   "pygments_lexer": "ipython3",
   "version": "3.11.11"
  }
 },
 "nbformat": 4,
 "nbformat_minor": 5
}
